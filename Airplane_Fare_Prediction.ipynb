{
 "cells": [
  {
   "cell_type": "code",
   "execution_count": 1,
   "id": "194f8fcc-1c00-475f-addd-5b1eafda4f6d",
   "metadata": {},
   "outputs": [],
   "source": [
    "import h5py\n",
    "import numpy as np\n",
    "import tensorflow as tf\n",
    "import matplotlib.pyplot as plt\n",
    "import pandas as pd\n",
    "from tensorflow.keras.models import Sequential\n",
    "from tensorflow.keras.layers import Dense\n",
    "from sklearn.model_selection import train_test_split\n",
    "from sklearn.preprocessing import LabelEncoder"
   ]
  },
  {
   "cell_type": "code",
   "execution_count": 2,
   "id": "29523491-9f30-4423-a94b-9dca84ab976b",
   "metadata": {},
   "outputs": [],
   "source": [
    "dataset_path = 'Cleaned_dataset.csv'\n",
    "\n",
    "# Load data into a DataFrame\n",
    "Airplane_fare_data = pd.read_csv(dataset_path).head(7000)\n",
    "\n",
    "label_encoder = LabelEncoder()\n",
    "dates = Airplane_fare_data['Date_of_journey']\n",
    "dates = dates.to_numpy().reshape(-1, 1)\n",
    "\n",
    "\n",
    "# Encoding Data \n",
    "Airplane_fare_data_encoded = pd.get_dummies(Airplane_fare_data, columns=['Journey_day', 'Airline', 'Flight_code', 'Source', 'Departure', 'Total_stops', 'Arrival', 'Destination', 'Class'])\n",
    "# Combine encoded features with the original DataFrame\n",
    "Airplane_fare_data_combined = pd.concat([Airplane_fare_data, Airplane_fare_data_encoded], axis=1)\n",
    "\n",
    "X = Airplane_fare_data_combined.drop(['Journey_day', 'Airline', 'Flight_code', 'Source', 'Departure', 'Total_stops', 'Arrival', 'Destination', 'Fare', 'Date_of_journey', 'Class'],axis=1).to_numpy()\n",
    "y = Airplane_fare_data_combined['Fare'].to_numpy()\n",
    "X = X.astype(np.int32)\n",
    "y = y.astype(np.int32)\n",
    "\n",
    "#X_with_dates = np.concatenate((X, dates), axis=1)\n",
    "\n",
    "X_train, X_dev,y_train,y_dev = train_test_split(X, y, test_size=0.1, random_state=42)"
   ]
  },
  {
   "cell_type": "code",
   "execution_count": 3,
   "id": "afa27a8a-bee9-4921-8e93-387ce9b2ce33",
   "metadata": {},
   "outputs": [],
   "source": [
    "model=Sequential([tf.keras.Input(shape=(X_train.shape[1],)),\n",
    "                  tf.keras.layers.Dense(500,activation=\"relu\",  kernel_regularizer=tf.keras.regularizers.l2(0.01)),\n",
    "                  tf.keras.layers.Dense(300,activation=\"relu\", kernel_regularizer=tf.keras.regularizers.l2(0.01)),\n",
    "                  tf.keras.layers.Dense(175,activation=\"relu\", kernel_regularizer=tf.keras.regularizers.l2(0.01)),\n",
    "                  tf.keras.layers.Dense(100,activation=\"relu\", kernel_regularizer=tf.keras.regularizers.l2(0.01)),\n",
    "                  tf.keras.layers.Dense(55,activation=\"relu\", kernel_regularizer=tf.keras.regularizers.l2(0.01)),\n",
    "                  tf.keras.layers.Dense(30,activation=\"relu\", kernel_regularizer=tf.keras.regularizers.l2(0.01)),\n",
    "                  tf.keras.layers.Dense(1,activation=\"linear\", kernel_regularizer=tf.keras.regularizers.l2(0.01))\n",
    "                 ])"
   ]
  },
  {
   "cell_type": "code",
   "execution_count": 4,
   "id": "89b4187c-e544-470f-b648-e72766575583",
   "metadata": {},
   "outputs": [],
   "source": [
    "model.compile(\n",
    "   loss= tf.keras.losses.MeanSquaredError(),\n",
    "    optimizer=tf.keras.optimizers.Adam(0.001)\n",
    ")\n"
   ]
  },
  {
   "cell_type": "code",
   "execution_count": 5,
   "id": "09a7ceb0-8b7f-42b7-8d00-cbeedd18cfad",
   "metadata": {},
   "outputs": [
    {
     "name": "stdout",
     "output_type": "stream",
     "text": [
      "Epoch 1/30\n",
      "197/197 [==============================] - 3s 5ms/step - loss: 405185824.0000 - val_loss: 105016968.0000\n",
      "Epoch 2/30\n",
      "197/197 [==============================] - 1s 4ms/step - loss: 60890524.0000 - val_loss: 42101712.0000\n",
      "Epoch 3/30\n",
      "197/197 [==============================] - 1s 4ms/step - loss: 40358060.0000 - val_loss: 31928328.0000\n",
      "Epoch 4/30\n",
      "197/197 [==============================] - 1s 4ms/step - loss: 34894444.0000 - val_loss: 28723246.0000\n",
      "Epoch 5/30\n",
      "197/197 [==============================] - 1s 4ms/step - loss: 29285048.0000 - val_loss: 26577956.0000\n",
      "Epoch 6/30\n",
      "197/197 [==============================] - 1s 4ms/step - loss: 26767034.0000 - val_loss: 25792778.0000\n",
      "Epoch 7/30\n",
      "197/197 [==============================] - 1s 4ms/step - loss: 26447240.0000 - val_loss: 35871260.0000\n",
      "Epoch 8/30\n",
      "197/197 [==============================] - 1s 4ms/step - loss: 25439456.0000 - val_loss: 25421508.0000\n",
      "Epoch 9/30\n",
      "197/197 [==============================] - 1s 4ms/step - loss: 24245234.0000 - val_loss: 26532234.0000\n",
      "Epoch 10/30\n",
      "197/197 [==============================] - 1s 4ms/step - loss: 23000850.0000 - val_loss: 24308402.0000\n",
      "Epoch 11/30\n",
      "197/197 [==============================] - 1s 4ms/step - loss: 22706970.0000 - val_loss: 22826618.0000\n",
      "Epoch 12/30\n",
      "197/197 [==============================] - 1s 4ms/step - loss: 21942850.0000 - val_loss: 23430840.0000\n",
      "Epoch 13/30\n",
      "197/197 [==============================] - 1s 4ms/step - loss: 21173408.0000 - val_loss: 21625166.0000\n",
      "Epoch 14/30\n",
      "197/197 [==============================] - 1s 4ms/step - loss: 21525126.0000 - val_loss: 22371954.0000\n",
      "Epoch 15/30\n",
      "197/197 [==============================] - 1s 4ms/step - loss: 20252526.0000 - val_loss: 23633004.0000\n",
      "Epoch 16/30\n",
      "197/197 [==============================] - 1s 4ms/step - loss: 20232420.0000 - val_loss: 20815210.0000\n",
      "Epoch 17/30\n",
      "197/197 [==============================] - 1s 4ms/step - loss: 19998086.0000 - val_loss: 21679696.0000\n",
      "Epoch 18/30\n",
      "197/197 [==============================] - 1s 4ms/step - loss: 19862052.0000 - val_loss: 22263478.0000\n",
      "Epoch 19/30\n",
      "197/197 [==============================] - 1s 4ms/step - loss: 19436644.0000 - val_loss: 21757530.0000\n",
      "Epoch 20/30\n",
      "197/197 [==============================] - 1s 4ms/step - loss: 19187306.0000 - val_loss: 20021060.0000\n",
      "Epoch 21/30\n",
      "197/197 [==============================] - 1s 4ms/step - loss: 20223510.0000 - val_loss: 20376496.0000\n",
      "Epoch 22/30\n",
      "197/197 [==============================] - 1s 4ms/step - loss: 18684702.0000 - val_loss: 30567518.0000\n",
      "Epoch 23/30\n",
      "197/197 [==============================] - 1s 4ms/step - loss: 19180722.0000 - val_loss: 24792600.0000\n",
      "Epoch 24/30\n",
      "197/197 [==============================] - 1s 4ms/step - loss: 18186724.0000 - val_loss: 19642494.0000\n",
      "Epoch 25/30\n",
      "197/197 [==============================] - 1s 4ms/step - loss: 19516122.0000 - val_loss: 20354380.0000\n",
      "Epoch 26/30\n",
      "197/197 [==============================] - 1s 4ms/step - loss: 18318268.0000 - val_loss: 21416790.0000\n",
      "Epoch 27/30\n",
      "197/197 [==============================] - 1s 4ms/step - loss: 18412254.0000 - val_loss: 19672878.0000\n",
      "Epoch 28/30\n",
      "197/197 [==============================] - 1s 4ms/step - loss: 17268848.0000 - val_loss: 19055308.0000\n",
      "Epoch 29/30\n",
      "197/197 [==============================] - 1s 4ms/step - loss: 16755555.0000 - val_loss: 20226318.0000\n",
      "Epoch 30/30\n",
      "197/197 [==============================] - 1s 4ms/step - loss: 17572068.0000 - val_loss: 19043806.0000\n"
     ]
    },
    {
     "data": {
      "text/plain": [
       "<keras.src.callbacks.History at 0x28f9692a390>"
      ]
     },
     "execution_count": 5,
     "metadata": {},
     "output_type": "execute_result"
    }
   ],
   "source": [
    "model.fit(\n",
    "    X_train,y_train,\n",
    "    epochs=30,\n",
    "    validation_data=(X_dev,y_dev)\n",
    ")"
   ]
  },
  {
   "cell_type": "code",
   "execution_count": 11,
   "id": "27b94770-5353-4c85-9510-16034626d24d",
   "metadata": {},
   "outputs": [
    {
     "name": "stdout",
     "output_type": "stream",
     "text": [
      "22/22 [==============================] - 0s 2ms/step\n"
     ]
    },
    {
     "data": {
      "text/plain": [
       "array([[-5.61526501, -5.61526501],\n",
       "       [49.79898734, 49.79898734],\n",
       "       [ 0.83541165,  0.83541165],\n",
       "       ...,\n",
       "       [-1.5306233 , -1.5306233 ],\n",
       "       [-5.00573151, -5.00573151],\n",
       "       [ 5.01755575,  5.01755575]])"
      ]
     },
     "execution_count": 11,
     "metadata": {},
     "output_type": "execute_result"
    }
   ],
   "source": [
    "prediction = model.predict(X_dev)\n",
    "((prediction-y_dev)/y_dev)*100"
   ]
  },
  {
   "cell_type": "code",
   "execution_count": null,
   "id": "54e6d67e-b4f8-4bfb-be70-568c2805da2e",
   "metadata": {},
   "outputs": [],
   "source": []
  }
 ],
 "metadata": {
  "kernelspec": {
   "display_name": "Python 3 (ipykernel)",
   "language": "python",
   "name": "python3"
  },
  "language_info": {
   "codemirror_mode": {
    "name": "ipython",
    "version": 3
   },
   "file_extension": ".py",
   "mimetype": "text/x-python",
   "name": "python",
   "nbconvert_exporter": "python",
   "pygments_lexer": "ipython3",
   "version": "3.11.2"
  }
 },
 "nbformat": 4,
 "nbformat_minor": 5
}
